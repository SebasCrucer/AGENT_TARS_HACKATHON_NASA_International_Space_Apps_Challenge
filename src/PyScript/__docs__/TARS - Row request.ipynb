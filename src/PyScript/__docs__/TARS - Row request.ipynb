{
 "cells": [
  {
   "cell_type": "markdown",
   "metadata": {},
   "source": [
    "# Row request\n",
    "In summary, this script is designed to retrieve and print data for a specified planet from a CSV file using the 'Consultor' class. It handles the case where the specified planet name is not found in the data by catching and reporting a 'KeyError'."
   ]
  },
  {
   "cell_type": "markdown",
   "metadata": {},
   "source": [
    "## Imports: \n",
    "The script imports the 'Consultor' class from the 'plugin_io.consultor' module and the 'sys' module for handling command-line arguments."
   ]
  },
  {
   "cell_type": "code",
   "execution_count": 1,
   "metadata": {},
   "outputs": [],
   "source": [
    "# Import the 'Consultor' class from the 'api_io.consultor' module and the 'sys' module for handling command-line arguments.\n",
    "from plugin_io.consultor import Consultor\n",
    "import sys"
   ]
  },
  {
   "cell_type": "markdown",
   "metadata": {},
   "source": [
    "- Command-Line Argument: It retrieves the name of a planet from the command-line arguments and stores it in the 'planet_name' variable.\n",
    "\n",
    "- Creating 'Consultor' Instance: An instance of the 'Consultor' class is created, providing the path to a CSV file containing data (e.g., \"planets_system.csv\").\n",
    "\n",
    "- Retrieving and Printing Data: The script attempts to retrieve and print flattened row data for the specified planet using the 'get_flat_row' method of the 'Consultor' class. If the specified planet name is found in the CSV data, the flattened row data is printed. However, if the planet name is not found, a 'KeyError' is caught, and a message is printed indicating that no records were found for the specified planet."
   ]
  },
  {
   "cell_type": "code",
   "execution_count": null,
   "metadata": {},
   "outputs": [],
   "source": [
    "# Retrieve the name of the planet from the command-line arguments.\n",
    "planet_name = sys.argv[1]\n",
    "\n",
    "# Create an instance of the 'Consultor' class and provide the path to a CSV file containing data (e.g., \"planets_system.csv\").\n",
    "consultor_instance = Consultor(\"plugin_io\\\\planets_system.csv\")\n",
    "\n",
    "# Try to retrieve and print the flattened row data for the specified planet using the 'get_flat_row' method.\n",
    "try:\n",
    "    flattened_row_data = consultor_instance.get_flat_row(planet_name)\n",
    "    print(flattened_row_data)\n",
    "\n",
    "# Catch a KeyError if the specified planet name is not found in the data.\n",
    "except KeyError:\n",
    "    print(\"No records found for the specified planet.\")"
   ]
  }
 ],
 "metadata": {
  "kernelspec": {
   "display_name": "Python 3",
   "language": "python",
   "name": "python3"
  },
  "language_info": {
   "codemirror_mode": {
    "name": "ipython",
    "version": 3
   },
   "file_extension": ".py",
   "mimetype": "text/x-python",
   "name": "python",
   "nbconvert_exporter": "python",
   "pygments_lexer": "ipython3",
   "version": "3.11.4"
  }
 },
 "nbformat": 4,
 "nbformat_minor": 2
}
