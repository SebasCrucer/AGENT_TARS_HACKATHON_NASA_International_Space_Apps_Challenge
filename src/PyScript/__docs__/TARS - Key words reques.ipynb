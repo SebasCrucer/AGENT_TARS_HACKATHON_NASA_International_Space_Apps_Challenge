{
 "cells": [
  {
   "cell_type": "markdown",
   "metadata": {},
   "source": [
    "# Key words request\n",
    "This Python script demonstrates the use of the 'Consultor' class to retrieve and process data from a CSV file based on command-line arguments."
   ]
  },
  {
   "cell_type": "markdown",
   "metadata": {},
   "source": [
    "## Imports: \n",
    "The script begins by importing the 'Consultor' class from the 'api_io.consultor' module and the 'sys' module for handling command-line arguments."
   ]
  },
  {
   "cell_type": "code",
   "execution_count": 1,
   "metadata": {},
   "outputs": [],
   "source": [
    "from plugin_io.consultor import Consultor\n",
    "import sys"
   ]
  },
  {
   "cell_type": "markdown",
   "metadata": {},
   "source": [
    "- Command-Line Arguments: \n",
    "It retrieves a string of column names from the command-line arguments and stores it in the 'column_names' variable.\n",
    "- Creating 'Consultor' Instance: \n",
    "An instance of the 'Consultor' class is created, providing the path to a CSV file containing data (e.g., \"planets_system.csv\").\n",
    "- Parsing Column Names: \n",
    "The provided column names string is split into a list of column names, which is stored in the 'column_list' variable.\n",
    "\n",
    "- Printing Column Names: \n",
    "The script prints the list of column names to the console.\n",
    "\n",
    "Retrieving and Printing Data: It attempts to retrieve and print flattened keys for the specified columns using the 'get_flat_keys' method of the 'Consultor' class. If the specified columns are found in the CSV data, the flattened keys and associated data are printed. Otherwise, it catches a 'KeyError' and prints a message indicating that no records were found for the specified columns.\n",
    "\n",
    "In summary, this script serves as an example of how to use the 'Consultor' class to extract and process data from a CSV file based on user-provided column names via command-line arguments. It handles both the parsing of column names and the retrieval of data, gracefully handling situations where specified columns are not found."
   ]
  },
  {
   "cell_type": "code",
   "execution_count": null,
   "metadata": {},
   "outputs": [],
   "source": [
    "# Retrieve the column names from the command-line arguments.\n",
    "column_names = sys.argv[1]\n",
    "\n",
    "# Create an instance of the 'Consultor' class and provide the path to a CSV file containing data (e.g., \"planets_system.csv\").\n",
    "consultor_instance = Consultor(\"plugin_io\\\\planets_system.csv\")\n",
    "\n",
    "# Split the provided column names into a list.\n",
    "column_list = column_names.split(\",\")\n",
    "\n",
    "# Print the list of column names.\n",
    "print(column_list)\n",
    "\n",
    "# Try to retrieve and print the flattened keys for the specified columns using the 'get_flat_keys' method.\n",
    "try:\n",
    "    flattened_keys = consultor_instance.get_flat_keys(*column_list)\n",
    "    print(flattened_keys)\n",
    "\n",
    "# Catch a KeyError if the specified columns are not found.\n",
    "except KeyError:\n",
    "    print(\"No records found for the specified columns.\")\n"
   ]
  }
 ],
 "metadata": {
  "kernelspec": {
   "display_name": "Python 3",
   "language": "python",
   "name": "python3"
  },
  "language_info": {
   "codemirror_mode": {
    "name": "ipython",
    "version": 3
   },
   "file_extension": ".py",
   "mimetype": "text/x-python",
   "name": "python",
   "nbconvert_exporter": "python",
   "pygments_lexer": "ipython3",
   "version": "3.11.4"
  }
 },
 "nbformat": 4,
 "nbformat_minor": 2
}
