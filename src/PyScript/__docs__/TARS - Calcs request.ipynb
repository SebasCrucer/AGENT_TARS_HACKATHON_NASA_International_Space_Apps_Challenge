{
 "cells": [
  {
   "cell_type": "markdown",
   "metadata": {},
   "source": [
    "# Calcs request\n",
    "This Python script imports necessary modules and libraries to perform calculations related to space travel. It interacts with the command-line arguments to retrieve information about the origin planet, destination planet, type of rocket, and an optional date."
   ]
  },
  {
   "cell_type": "markdown",
   "metadata": {},
   "source": [
    "## Importing Modules and Libraries:\n",
    "\n",
    "The script begins by importing modules and libraries. It imports all functions and classes from the \"calc\" module within the \"astro_calc\" package. Additionally, it imports the \"sys\" library, which is a standard library for interacting with the Python interpreter."
   ]
  },
  {
   "cell_type": "code",
   "execution_count": 1,
   "metadata": {},
   "outputs": [],
   "source": [
    "from astro_calc.calc import *  \n",
    "import sys"
   ]
  },
  {
   "cell_type": "markdown",
   "metadata": {},
   "source": [
    "## Parsing Command-Line Arguments: \n",
    "The script attempts to retrieve command-line arguments passed to it. It expects three mandatory arguments: the origin planet (p1), the destination planet (p2), and the type of rocket (rocket). An optional fourth argument can specify a date (date), but if not provided, it defaults to None.\n",
    "\n",
    "## Calculating and Printing: \n",
    "The script uses the retrieved arguments to call the calc function, which performs calculations based on the provided input. The calculated result is then printed to the console.\n",
    "\n",
    "## Handling Errors: \n",
    "If an insufficient number of arguments is provided when running the script, it prints an informative error message instructing the user to specify the date, origin planet, destination planet, and the travel rocket.\n",
    "\n",
    "In summary, this script is designed to perform space travel calculations based on user-provided inputs, including origin and destination planets, the type of rocket, and an optional date. It handles the parsing of command-line arguments and provides helpful error messages when necessary.\n",
    "\n",
    "\n",
    "\n",
    "\n",
    "User\n",
    "traduce \"petición\"\n",
    "ChatGPT\n",
    "La palabra \"petición\" se traduce al inglés como \"request\" o \"petition\", dependiendo del contexto. \"Request\" se utiliza comúnmente en situaciones formales o cotidianas cuando se solicita algo, mientras que \"petition\" se usa a menudo en el contexto legal o cuando se recopilan firmas para solicitar un cambio o acción específica.\n",
    "\n",
    "\n",
    "\n",
    "\n",
    "\n"
   ]
  },
  {
   "cell_type": "code",
   "execution_count": null,
   "metadata": {},
   "outputs": [],
   "source": [
    "# Intenta recuperar los argumentos pasados al script desde la línea de comandos\n",
    "try:\n",
    "    # Obtiene los argumentos: planetas origen y destino, y el tipo de cohete\n",
    "    p1 = sys.argv[1]\n",
    "    p2 = sys.argv[2]\n",
    "    rocket = sys.argv[3]\n",
    "\n",
    "    # Intenta obtener la fecha especificada; si no se proporciona, la establece como None\n",
    "    try:\n",
    "        date = sys.argv[4]\n",
    "    except IndexError:\n",
    "        date = None\n",
    "    \n",
    "    # Imprime el resultado de la función calc(), la cual realiza cálculos basados en los argumentos proporcionados\n",
    "    print(calc(p1, p2, rocket, date))\n",
    "\n",
    "# Si no se proporcionan suficientes argumentos al script, imprime un mensaje de error instructivo\n",
    "except IndexError:\n",
    "    print(\"Debes mencionar la fecha, el planeta origen, el planeta destino y el cohete de viaje\")"
   ]
  },
  {
   "cell_type": "code",
   "execution_count": null,
   "metadata": {},
   "outputs": [],
   "source": []
  }
 ],
 "metadata": {
  "kernelspec": {
   "display_name": "Python 3",
   "language": "python",
   "name": "python3"
  },
  "language_info": {
   "codemirror_mode": {
    "name": "ipython",
    "version": 3
   },
   "file_extension": ".py",
   "mimetype": "text/x-python",
   "name": "python",
   "nbconvert_exporter": "python",
   "pygments_lexer": "ipython3",
   "version": "3.11.4"
  }
 },
 "nbformat": 4,
 "nbformat_minor": 2
}
