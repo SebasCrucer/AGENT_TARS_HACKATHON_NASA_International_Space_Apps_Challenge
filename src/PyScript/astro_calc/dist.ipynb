{
 "cells": [
  {
   "cell_type": "markdown",
   "metadata": {},
   "source": [
    "# Distance Calc\n",
    "This module iteratively calculates the distances between every possible pair of planets to filter out those that are shorter."
   ]
  },
  {
   "cell_type": "markdown",
   "metadata": {},
   "source": [
    "## Imports\n"
   ]
  },
  {
   "cell_type": "code",
   "execution_count": 1,
   "metadata": {},
   "outputs": [],
   "source": [
    "from astropy.coordinates import solar_system_ephemeris, get_body\n",
    "from astropy.coordinates.sky_coordinate import SkyCoord\n",
    "import astropy.units as u\n",
    "from astropy.time import Time\n",
    "from calc import planet_mapping"
   ]
  }
 ],
 "metadata": {
  "kernelspec": {
   "display_name": "Python 3",
   "language": "python",
   "name": "python3"
  },
  "language_info": {
   "codemirror_mode": {
    "name": "ipython",
    "version": 3
   },
   "file_extension": ".py",
   "mimetype": "text/x-python",
   "name": "python",
   "nbconvert_exporter": "python",
   "pygments_lexer": "ipython3",
   "version": "3.11.4"
  }
 },
 "nbformat": 4,
 "nbformat_minor": 2
}
