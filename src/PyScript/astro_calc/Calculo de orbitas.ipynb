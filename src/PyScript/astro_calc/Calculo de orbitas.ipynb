{
 "cells": [
  {
   "cell_type": "markdown",
   "id": "8986d24e-bc2c-4e83-a427-deba715d3210",
   "metadata": {},
   "source": [
    "# Calcular  la posicion en cordenadas de cada planeta en tiempo real o en una fecha determinada \n"
   ]
  },
  {
   "cell_type": "markdown",
   "id": "c7995b7a-001b-4ebb-a07f-3d97d019e8ec",
   "metadata": {},
   "source": [
    "## Librerias"
   ]
  },
  {
   "cell_type": "code",
   "execution_count": 6,
   "id": "b2881451-7816-4e7c-9efa-1d9c53592403",
   "metadata": {},
   "outputs": [],
   "source": [
    "from astropy import units as u\n",
    "from astropy import coordinates as coord\n",
    "from skyfield.api import load\n",
    "from skyfield.errors import EphemerisRangeError\n",
    "from datetime import datetime\n",
    "import math"
   ]
  },
  {
   "cell_type": "markdown",
   "id": "8edf5b24-adc9-4608-b4ba-fc479a4ae1fe",
   "metadata": {},
   "source": [
    "## Normalizacion de nombres"
   ]
  },
  {
   "cell_type": "code",
   "execution_count": 2,
   "id": "445e9fcf-9b1e-4b84-8e42-8433ddfce8d6",
   "metadata": {},
   "outputs": [],
   "source": [
    "# Mapeo de nombres a identificadores de Skyfield\n",
    "planet_mapping = {\n",
    "    'Mercury': 'mercury',\n",
    "    'Venus': 'venus',\n",
    "    'Earth': 'earth',\n",
    "    'Mars': 'mars',\n",
    "    'Jupiter': 'jupiter barycenter',\n",
    "    'Saturn': 'saturn barycenter',\n",
    "    'Uranus': 'uranus barycenter',\n",
    "    'Neptune': 'neptune barycenter'\n",
    "}\n",
    "\n",
    "# Velocidades de los cohetes en km/s y mapeo de nombres cortos\n",
    "rocket_speeds = {\n",
    "    \"SLS\": 28000 / 3600,\n",
    "    \"Saturn V\": 11,\n",
    "    \"Falcon Heavy\": 7.5,\n",
    "    \"Delta IV Heavy\": 9.2\n",
    "}\n"
   ]
  },
  {
   "cell_type": "markdown",
   "id": "016e4049-27e2-44d6-b1bd-9cf45af22ccb",
   "metadata": {},
   "source": [
    "## 2. Funciones de Utilidad"
   ]
  },
  {
   "cell_type": "code",
   "execution_count": 3,
   "id": "a6633519-d8f6-4906-b871-2cce356058af",
   "metadata": {},
   "outputs": [],
   "source": [
    "def get_planet_positions(date_str=None):\n",
    "    # Cargar efemérides\n",
    "    eph = load('de421.bsp')\n",
    "\n",
    "    # Cargar tiempos\n",
    "    ts = load.timescale()\n",
    "    if date_str:\n",
    "        date_obj = datetime.strptime(date_str, '%Y-%m-%d')\n",
    "        t = ts.utc(date_obj.year, date_obj.month, date_obj.day)\n",
    "    else:\n",
    "        t = ts.now()\n",
    "\n",
    "    planet_data = {}\n",
    "\n",
    "    for planet_name, planet_id in planet_mapping.items():\n",
    "        body = eph[planet_id]\n",
    "        astrometric = body.at(t)\n",
    "        lat, lon, distance = astrometric.ecliptic_latlon()\n",
    "        planet_data[planet_name] = {\n",
    "            'lat': lat.degrees,\n",
    "            'lon': lon.degrees,\n",
    "            'distance': distance.au\n",
    "        }\n",
    "\n",
    "    # Convertir las coordenadas eclípticas a cartesianas\n",
    "    for planet, data in planet_data.items():\n",
    "        r = data['distance']\n",
    "        lon = math.radians(data['lon'])\n",
    "        lat = math.radians(data['lat'])\n",
    "        x = r * math.cos(lat) * math.cos(lon)\n",
    "        y = r * math.cos(lat) * math.sin(lon)\n",
    "        z = r * math.sin(lat)\n",
    "        planet_data[planet]['x'] = x\n",
    "        planet_data[planet]['y'] = y\n",
    "        planet_data[planet]['z'] = z\n",
    "\n",
    "    return planet_data\n",
    "\n",
    "def calculate_distance(planet_data, planet1, planet2):\n",
    "    x1, y1, z1 = planet_data[planet1]['x'], planet_data[planet1]['y'], planet_data[planet1]['z']\n",
    "    x2, y2, z2 = planet_data[planet2]['x'], planet_data[planet2]['y'], planet_data[planet2]['z']\n",
    "    return math.sqrt((x2 - x1)**2 + (y2 - y1)**2 + (z2 - z1)**2)\n",
    "\n",
    "def calculate_travel_time(distance, speed):\n",
    "    return distance * 1.496e8 / speed  # Convertir UA a km y dividir por la velocidad para obtener el tiempo en segundos\n"
   ]
  },
  {
   "cell_type": "markdown",
   "id": "ac704f20-9fd7-4a94-a3a3-24777826bce2",
   "metadata": {},
   "source": [
    "## 3. Interaccion con el usuario"
   ]
  },
  {
   "cell_type": "code",
   "execution_count": 9,
   "id": "c914a7af-8e26-4983-beee-fa83d8eae096",
   "metadata": {},
   "outputs": [
    {
     "name": "stdin",
     "output_type": "stream",
     "text": [
      "Ingrese una fecha (DD/MM/YYYY) o presione Enter para usar la fecha actual:  10/12/2083\n"
     ]
    },
    {
     "name": "stdout",
     "output_type": "stream",
     "text": [
      "La fecha ingresada está fuera del rango cubierto por el archivo de efemérides. Por favor, elige una fecha entre 1899-07-29 y 2053-10-09.\n"
     ]
    }
   ],
   "source": [
    "# Solicitar entrada del usuario\n",
    "user_input = input(\"Ingrese una fecha (DD/MM/YYYY) o presione Enter para usar la fecha actual: \")\n",
    "\n",
    "try:\n",
    "    if user_input:\n",
    "        day, month, year = map(int, user_input.split('/'))\n",
    "        planet_data = get_planet_positions(f\"{year}-{month}-{day}\")\n",
    "    else:\n",
    "        planet_data = get_planet_positions()\n",
    "\n",
    "except EphemerisRangeError:\n",
    "    print(\"La fecha ingresada está fuera del rango cubierto por el archivo de efemérides. Por favor, elige una fecha entre 1899-07-29 y 2053-10-09.\")\n",
    "    planet_data = None\n",
    "\n",
    "# Asegúrate de que solo continuamos si planet_data es válido\n",
    "if planet_data:\n",
    "    planet1 = input(\"Ingrese el primer planeta (Mercury, Venus, Earth, Mars, Jupiter, Saturn, Uranus, Neptune): \")\n",
    "    planet2 = input(\"Ingrese el segundo planeta (Mercury, Venus, Earth, Mars, Jupiter, Saturn, Uranus, Neptune): \")\n",
    "\n",
    "    # Permitir al usuario elegir un cohete por su nombre corto\n",
    "    print(\"Elija un cohete:\")\n",
    "    for rocket in rocket_speeds:\n",
    "        print(rocket)\n",
    "\n",
    "    selected_rocket = input()\n",
    "    if selected_rocket not in rocket_speeds:\n",
    "        print(\"Cohete no reconocido.\")\n",
    "        exit()\n",
    "\n",
    "    distance = calculate_distance(planet_data, planet1, planet2)\n",
    "    time_seconds = calculate_travel_time(distance, rocket_speeds[selected_rocket])\n",
    "\n",
    "    hours = time_seconds // 3600\n",
    "    minutes = (time_seconds % 3600) // 60\n",
    "    seconds = time_seconds % 60\n",
    "\n",
    "    print(f\"El tiempo de viaje entre {planet1} y {planet2} usando el {selected_rocket} es aproximadamente {int(hours)} horas, {int(minutes)} minutos y {seconds:.2f} segundos.\")\n"
   ]
  },
  {
   "cell_type": "code",
   "execution_count": null,
   "id": "4adb4063-6dd0-43fe-90e2-21aa7401db01",
   "metadata": {},
   "outputs": [],
   "source": []
  }
 ],
 "metadata": {
  "kernelspec": {
   "display_name": "Python 3 (ipykernel)",
   "language": "python",
   "name": "python3"
  },
  "language_info": {
   "codemirror_mode": {
    "name": "ipython",
    "version": 3
   },
   "file_extension": ".py",
   "mimetype": "text/x-python",
   "name": "python",
   "nbconvert_exporter": "python",
   "pygments_lexer": "ipython3",
   "version": "3.11.3"
  }
 },
 "nbformat": 4,
 "nbformat_minor": 5
}
